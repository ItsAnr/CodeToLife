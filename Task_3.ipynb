{
  "nbformat": 4,
  "nbformat_minor": 0,
  "metadata": {
    "colab": {
      "provenance": [],
      "authorship_tag": "ABX9TyNIGI2VHPbCAcIYv60XLbKY",
      "include_colab_link": true
    },
    "kernelspec": {
      "name": "python3",
      "display_name": "Python 3"
    },
    "language_info": {
      "name": "python"
    }
  },
  "cells": [
    {
      "cell_type": "markdown",
      "metadata": {
        "id": "view-in-github",
        "colab_type": "text"
      },
      "source": [
        "<a href=\"https://colab.research.google.com/github/ItsAnr/CodeToLife/blob/main/Task_3.ipynb\" target=\"_parent\"><img src=\"https://colab.research.google.com/assets/colab-badge.svg\" alt=\"Open In Colab\"/></a>"
      ]
    },
    {
      "cell_type": "code",
      "execution_count": 1,
      "metadata": {
        "id": "BHGXmJqNSNib"
      },
      "outputs": [],
      "source": [
        "\n",
        "def extract_protein_region_strict(rna):\n",
        "    start_codon = \"AUG\"\n",
        "    stop_codons = {\"UAA\", \"UGA\", \"UAG\"}\n",
        "\n",
        "    start_index = -1\n",
        "    for i in range(len(rna) - 2):\n",
        "        if rna[i:i+3] == start_codon:\n",
        "            start_index = i\n",
        "            break\n",
        "\n",
        "    if start_index == -1:\n",
        "        return \"\"  # No start codon found\n",
        "\n",
        "    codons = []\n",
        "    for i in range(start_index, len(rna) - 2, 3):\n",
        "        codon = rna[i:i+3]\n",
        "        if codon in stop_codons:\n",
        "            break\n",
        "        codons.append(codon)\n",
        "\n",
        "    return \"\".join(codons)"
      ]
    },
    {
      "cell_type": "code",
      "source": [
        "\n",
        "# Test\n",
        "rna = \"CCGAUGGCUACGUAAAGG\"\n",
        "result = extract_protein_region_strict(rna)\n",
        "print(\"Extracted coding region:\", result)"
      ],
      "metadata": {
        "colab": {
          "base_uri": "https://localhost:8080/"
        },
        "id": "DAIlIO2ZVAVm",
        "outputId": "fefe89ef-8d01-4588-f7d7-5b50fc67e84d"
      },
      "execution_count": 2,
      "outputs": [
        {
          "output_type": "stream",
          "name": "stdout",
          "text": [
            "Extracted coding region: AUGGCUACG\n"
          ]
        }
      ]
    }
  ]
}