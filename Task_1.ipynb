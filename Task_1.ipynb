{
  "nbformat": 4,
  "nbformat_minor": 0,
  "metadata": {
    "colab": {
      "provenance": [],
      "authorship_tag": "ABX9TyN+VYjtgPFeEVvXWnpcGSMd",
      "include_colab_link": true
    },
    "kernelspec": {
      "name": "python3",
      "display_name": "Python 3"
    },
    "language_info": {
      "name": "python"
    }
  },
  "cells": [
    {
      "cell_type": "markdown",
      "metadata": {
        "id": "view-in-github",
        "colab_type": "text"
      },
      "source": [
        "<a href=\"https://colab.research.google.com/github/ItsAnr/CodeToLife/blob/main/Task_1.ipynb\" target=\"_parent\"><img src=\"https://colab.research.google.com/assets/colab-badge.svg\" alt=\"Open In Colab\"/></a>"
      ]
    },
    {
      "cell_type": "code",
      "execution_count": 1,
      "metadata": {
        "colab": {
          "base_uri": "https://localhost:8080/"
        },
        "id": "6nsBbESoQVsq",
        "outputId": "b88de33d-3482-46f2-805f-5a8615eba441"
      },
      "outputs": [
        {
          "output_type": "stream",
          "name": "stdout",
          "text": [
            "TGCAT\n"
          ]
        }
      ],
      "source": [
        "def get_reverse_complement(dna):\n",
        "    complement = {\n",
        "        \"A\": \"T\",\n",
        "        \"T\": \"A\",\n",
        "        \"G\": \"C\",\n",
        "        \"C\": \"G\"\n",
        "    }\n",
        "    reverse_complement = ''.join([complement[base] for base in dna[::-1]])\n",
        "    return reverse_complement\n",
        "\n",
        "# Test\n",
        "dna = \"ATGCA\"\n",
        "print(get_reverse_complement(dna))"
      ]
    }
  ]
}