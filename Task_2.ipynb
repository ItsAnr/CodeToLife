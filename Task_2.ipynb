{
  "cells": [
    {
      "cell_type": "markdown",
      "metadata": {
        "id": "view-in-github",
        "colab_type": "text"
      },
      "source": [
        "<a href=\"https://colab.research.google.com/github/ItsAnr/CodeToLife/blob/main/Task_2.ipynb\" target=\"_parent\"><img src=\"https://colab.research.google.com/assets/colab-badge.svg\" alt=\"Open In Colab\"/></a>"
      ]
    },
    {
      "cell_type": "code",
      "execution_count": null,
      "metadata": {
        "colab": {
          "background_save": true,
          "base_uri": "https://localhost:8080/"
        },
        "id": "4vOyIFupQ__w",
        "outputId": "c2d637fa-8818-4e74-d18c-fac6a3c8e8c9"
      },
      "outputs": [
        {
          "name": "stdout",
          "output_type": "stream",
          "text": [
            "66.66666666666666\n"
          ]
        }
      ],
      "source": [
        "def calculate_gc_content(dna):\n",
        "    g_count = dna.count(\"G\")\n",
        "    c_count = dna.count(\"C\")\n",
        "    total_length = len(dna)\n",
        "\n",
        "    if total_length == 0:\n",
        "        return 0\n",
        "\n",
        "    gc_percent = (g_count + c_count) / total_length * 100\n",
        "    return gc_percent\n",
        "\n",
        "dna = \"ATGCGC\"\n",
        "print(calculate_gc_content(dna))"
      ]
    }
  ],
  "metadata": {
    "colab": {
      "provenance": [],
      "authorship_tag": "ABX9TyOJVBQD9m9y9atOn4IUwrU7",
      "include_colab_link": true
    },
    "kernelspec": {
      "display_name": "Python 3",
      "name": "python3"
    },
    "language_info": {
      "name": "python"
    }
  },
  "nbformat": 4,
  "nbformat_minor": 0
}