{
  "nbformat": 4,
  "nbformat_minor": 0,
  "metadata": {
    "colab": {
      "provenance": [],
      "authorship_tag": "ABX9TyPdfSq1Mda806fhMG9ZmW8t",
      "include_colab_link": true
    },
    "kernelspec": {
      "name": "python3",
      "display_name": "Python 3"
    },
    "language_info": {
      "name": "python"
    }
  },
  "cells": [
    {
      "cell_type": "markdown",
      "metadata": {
        "id": "view-in-github",
        "colab_type": "text"
      },
      "source": [
        "<a href=\"https://colab.research.google.com/github/ItsAnr/CodeToLife/blob/main/CentralDogmaLab.ipynb\" target=\"_parent\"><img src=\"https://colab.research.google.com/assets/colab-badge.svg\" alt=\"Open In Colab\"/></a>"
      ]
    },
    {
      "cell_type": "code",
      "source": [
        "def get_dna_input():\n",
        "    valid_strands = [\"coding\", \"template\"]\n",
        "\n",
        "    while True:\n",
        "        dna = input(\"Enter DNA sequence (only A, T, C, G): \").upper()\n",
        "\n",
        "        valid_dna = True\n",
        "        for base in dna:\n",
        "            if base not in \"ATCG\":\n",
        "                print(\"Invalid DNA sequence. Only A, T, C, G are allowed.\")\n",
        "                valid_dna = False\n",
        "                break\n",
        "\n",
        "        if not valid_dna:\n",
        "            continue\n",
        "\n",
        "        strand_type = input(\"Enter strand type (coding/template): \").lower()\n",
        "        if strand_type not in valid_strands:\n",
        "            print(\"Invalid strand type. Please enter 'coding' or 'template'.\")\n",
        "            continue\n",
        "\n",
        "        return dna, strand_type"
      ],
      "metadata": {
        "id": "W2shaAYOsVOG"
      },
      "execution_count": 1,
      "outputs": []
    },
    {
      "cell_type": "code",
      "source": [
        "def get_reverse_complement(dna):\n",
        "    complement = {\n",
        "        \"A\": \"T\",\n",
        "        \"T\": \"A\",\n",
        "        \"G\": \"C\",\n",
        "        \"C\": \"G\"\n",
        "    }\n",
        "    reverse_complement = ''.join([complement[base] for base in dna[::-1]])\n",
        "    return reverse_complement\n",
        "\n",
        "def dna_to_mrna(dna, strand_type):\n",
        "    if strand_type == \"coding\":\n",
        "        return dna.replace(\"T\", \"U\")\n",
        "    elif strand_type == \"template\":\n",
        "        reverse_comp = get_reverse_complement(dna)\n",
        "        return reverse_comp.replace(\"T\", \"U\")"
      ],
      "metadata": {
        "id": "nrtNu1oOcxiY"
      },
      "execution_count": 2,
      "outputs": []
    },
    {
      "cell_type": "code",
      "source": [
        "\n",
        "def extract_protein_region_strict(rna):\n",
        "    start_codon = \"AUG\"\n",
        "    stop_codons = {\"UAA\", \"UGA\", \"UAG\"}\n",
        "\n",
        "    start_index = -1\n",
        "    for i in range(len(rna) - 2):\n",
        "        if rna[i:i+3] == start_codon:\n",
        "            start_index = i\n",
        "            break\n",
        "\n",
        "    if start_index == -1:\n",
        "        return \"\"  # No start codon found\n",
        "\n",
        "    codons = []\n",
        "    for i in range(start_index, len(rna) - 2, 3):\n",
        "        codon = rna[i:i+3]\n",
        "        if codon in stop_codons:\n",
        "            break\n",
        "        codons.append(codon)\n",
        "\n",
        "    return \"\".join(codons)"
      ],
      "metadata": {
        "id": "jSYgstwcdXJg"
      },
      "execution_count": 3,
      "outputs": []
    },
    {
      "cell_type": "code",
      "source": [
        "codon_to_amino = {\n",
        "    \"UUU\": \"Phenylalanine\", \"UUC\": \"Phenylalanine\",\n",
        "    \"UUA\": \"Leucine\", \"UUG\": \"Leucine\",\n",
        "    \"CUU\": \"Leucine\", \"CUC\": \"Leucine\",\n",
        "    \"CUA\": \"Leucine\", \"CUG\": \"Leucine\",\n",
        "    \"AUU\": \"Isoleucine\", \"AUC\": \"Isoleucine\", \"AUA\": \"Isoleucine\",\n",
        "    \"AUG\": \"Methionine\",  # Start codon\n",
        "    \"GUU\": \"Valine\", \"GUC\": \"Valine\", \"GUA\": \"Valine\", \"GUG\": \"Valine\",\n",
        "    \"UCU\": \"Serine\", \"UCC\": \"Serine\", \"UCA\": \"Serine\", \"UCG\": \"Serine\",\n",
        "    \"AGU\": \"Serine\", \"AGC\": \"Serine\",\n",
        "    \"CCU\": \"Proline\", \"CCC\": \"Proline\", \"CCA\": \"Proline\", \"CCG\": \"Proline\",\n",
        "    \"ACU\": \"Threonine\", \"ACC\": \"Threonine\", \"ACA\": \"Threonine\", \"ACG\": \"Threonine\",\n",
        "    \"GCU\": \"Alanine\", \"GCC\": \"Alanine\", \"GCA\": \"Alanine\", \"GCG\": \"Alanine\",\n",
        "    \"UAU\": \"Tyrosine\", \"UAC\": \"Tyrosine\",\n",
        "    \"CAU\": \"Histidine\", \"CAC\": \"Histidine\",\n",
        "    \"CAA\": \"Glutamine\", \"CAG\": \"Glutamine\",\n",
        "    \"AAU\": \"Asparagine\", \"AAC\": \"Asparagine\",\n",
        "    \"AAA\": \"Lysine\", \"AAG\": \"Lysine\",\n",
        "    \"GAU\": \"Aspartic acid\", \"GAC\": \"Aspartic acid\",\n",
        "    \"GAA\": \"Glutamic acid\", \"GAG\": \"Glutamic acid\",\n",
        "    \"UGU\": \"Cysteine\", \"UGC\": \"Cysteine\",\n",
        "    \"UGG\": \"Tryptophan\",\n",
        "    \"CGU\": \"Arginine\", \"CGC\": \"Arginine\", \"CGA\": \"Arginine\", \"CGG\": \"Arginine\",\n",
        "    \"AGA\": \"Arginine\", \"AGG\": \"Arginine\",\n",
        "    \"GGU\": \"Glycine\", \"GGC\": \"Glycine\", \"GGA\": \"Glycine\", \"GGG\": \"Glycine\",\n",
        "    \"UAA\": \"Stop\", \"UAG\": \"Stop\", \"UGA\": \"Stop\"\n",
        "}"
      ],
      "metadata": {
        "id": "NB6c5lBodXpe"
      },
      "execution_count": 4,
      "outputs": []
    },
    {
      "cell_type": "code",
      "source": [
        "def translate_to_protein(coding_region):\n",
        "    protein = \"\"\n",
        "    for i in range(0, len(coding_region) - 2, 3):\n",
        "        codon = coding_region[i:i+3]\n",
        "        aa = codon_to_amino.get(codon, \"\")\n",
        "        if aa == \"Stop\":\n",
        "            break\n",
        "        protein += aa + \"-\"\n",
        "    return protein"
      ],
      "metadata": {
        "id": "h2iWjlO8dh_q"
      },
      "execution_count": 8,
      "outputs": []
    },
    {
      "cell_type": "code",
      "source": [
        "def calculate_gc_content(dna):\n",
        "    g_count = dna.count(\"G\")\n",
        "    c_count = dna.count(\"C\")\n",
        "    total_length = len(dna)\n",
        "\n",
        "    if total_length == 0:\n",
        "        return 0\n",
        "\n",
        "    gc_percent = (g_count + c_count) / total_length * 100\n",
        "    return gc_percent"
      ],
      "metadata": {
        "id": "JGEjGBkPo93T"
      },
      "execution_count": 6,
      "outputs": []
    },
    {
      "cell_type": "code",
      "source": [
        "dna, strand_type = get_dna_input()\n",
        "mrna = dna_to_mrna(dna, strand_type)\n",
        "coding_region = extract_protein_region_strict(mrna)\n",
        "protein = translate_to_protein(coding_region)\n",
        "\n",
        "print(\"Protein:\", protein)\n",
        "print(\"GC content of DNA: {:.2f}%\".format(calculate_gc_content(dna)))"
      ],
      "metadata": {
        "colab": {
          "base_uri": "https://localhost:8080/"
        },
        "id": "NcQsGeCadpQj",
        "outputId": "fe0bcb09-9df8-4e05-b644-0ad9d387bec2"
      },
      "execution_count": 10,
      "outputs": [
        {
          "output_type": "stream",
          "name": "stdout",
          "text": [
            "Enter DNA sequence (only A, T, C, G): ATGGCCATTGTAATGGGCCGCTGAAAGGGTGCCCGATAG\n",
            "Enter strand type (coding/template): Coding\n",
            "Protein: Methionine-Alanine-Isoleucine-Valine-Methionine-Glycine-Arginine-\n",
            "GC content of DNA: 56.41%\n"
          ]
        }
      ]
    }
  ]
}